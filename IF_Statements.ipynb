{
  "nbformat": 4,
  "nbformat_minor": 0,
  "metadata": {
    "colab": {
      "provenance": [],
      "authorship_tag": "ABX9TyPsGVUqvx0OtRnLZ5R8aEhV",
      "include_colab_link": true
    },
    "kernelspec": {
      "name": "python3",
      "display_name": "Python 3"
    },
    "language_info": {
      "name": "python"
    }
  },
  "cells": [
    {
      "cell_type": "markdown",
      "metadata": {
        "id": "view-in-github",
        "colab_type": "text"
      },
      "source": [
        "<a href=\"https://colab.research.google.com/github/akash20sisi/Python/blob/main/IF_Statements.ipynb\" target=\"_parent\"><img src=\"https://colab.research.google.com/assets/colab-badge.svg\" alt=\"Open In Colab\"/></a>"
      ]
    },
    {
      "cell_type": "markdown",
      "source": [
        "**Learning Goals**\n",
        "\n",
        "\n",
        "* You'll learn to write simple if statements, and you'll learn how to create a more complex series of if statements to\n",
        "identify when the exact conditions you want are present. You'll then apply\n",
        "this concept to lists, so you'll be able to write a for loop that handles most\n",
        "items in a list one way but handles certain items with specific values in a\n",
        "different way."
      ],
      "metadata": {
        "id": "POXHtKKd9HD3"
      }
    },
    {
      "cell_type": "code",
      "execution_count": 1,
      "metadata": {
        "colab": {
          "base_uri": "https://localhost:8080/"
        },
        "id": "bTqW-QAg805z",
        "outputId": "c80dee3d-620a-486d-ddc1-e317c1bb4145"
      },
      "outputs": [
        {
          "output_type": "stream",
          "name": "stdout",
          "text": [
            "Audi\n",
            "BMW\n",
            "Subaru\n",
            "Toyota\n"
          ]
        }
      ],
      "source": [
        "cars = ['audi', 'bmw', 'subaru', 'toyota']\n",
        "for car in cars:\n",
        "  if car == 'bmw':\n",
        "    print(car.upper())\n",
        "  else:\n",
        "    print(car.title())"
      ]
    },
    {
      "cell_type": "markdown",
      "source": [
        "**Checking Whether a Value Is in a List**"
      ],
      "metadata": {
        "id": "WOYJP94mAU63"
      }
    },
    {
      "cell_type": "code",
      "source": [
        "requested_toppings = ['mushrooms', 'onions', 'pineapple']\n",
        "print('mushrooms' in requested_toppings, 'pepperoni' in requested_toppings)"
      ],
      "metadata": {
        "colab": {
          "base_uri": "https://localhost:8080/"
        },
        "id": "mZIwbbBXAXFN",
        "outputId": "afe0431c-de47-4864-b495-9b137bf3253f"
      },
      "execution_count": 3,
      "outputs": [
        {
          "output_type": "stream",
          "name": "stdout",
          "text": [
            "True False\n"
          ]
        }
      ]
    },
    {
      "cell_type": "markdown",
      "source": [
        "**Checking Whether a Value Is Not in a List**"
      ],
      "metadata": {
        "id": "8lo6fe8iAnh0"
      }
    },
    {
      "cell_type": "code",
      "source": [
        "banned_users = ['andrew', 'carolina', 'david']\n",
        "user = 'marie'\n",
        "if user not in banned_users:\n",
        "  print(f\"{user.title()}, you can post a response if you wish.\")"
      ],
      "metadata": {
        "colab": {
          "base_uri": "https://localhost:8080/"
        },
        "id": "AzoQ2zV0ApLv",
        "outputId": "9a81e30a-b813-4ade-ce27-d9ccef7074f1"
      },
      "execution_count": 4,
      "outputs": [
        {
          "output_type": "stream",
          "name": "stdout",
          "text": [
            "Marie, you can post a response if you wish.\n"
          ]
        }
      ]
    },
    {
      "cell_type": "markdown",
      "source": [
        "**if-else Statements**\n",
        "\n",
        "* Often, you'll want to take one action when a conditional test passes and a different action in all other cases. Python's if-else syntax makes this possible.\n",
        "An if-else block is similar to a simple if statement, but the else statement\n",
        "allows you to define an action or set of actions that are executed when the\n",
        "conditional test fails."
      ],
      "metadata": {
        "id": "vz2tlolzEEca"
      }
    },
    {
      "cell_type": "code",
      "source": [
        "age = 17\n",
        "if age >= 18:\n",
        "  print(\"You are old enough to vote!\")\n",
        "  print(\"Have you registered to vote yet?\")\n",
        "else:\n",
        "  print(\"Sorry, you are too young to vote.\")\n",
        "  print(\"Please register to vote as soon as you turn 18!\")"
      ],
      "metadata": {
        "colab": {
          "base_uri": "https://localhost:8080/"
        },
        "id": "4G0593EOEGjx",
        "outputId": "9631c079-9f42-4c54-8004-4f1f7a3b05d2"
      },
      "execution_count": 5,
      "outputs": [
        {
          "output_type": "stream",
          "name": "stdout",
          "text": [
            "Sorry, you are too young to vote.\n",
            "Please register to vote as soon as you turn 18!\n"
          ]
        }
      ]
    },
    {
      "cell_type": "markdown",
      "source": [
        "**The if-elif-else Chain**\n",
        "\n",
        "* Python executes only one\n",
        "block in an if-elif-else chain. It runs each conditional test in order until\n",
        "one passes. When a test passes, the code following that test is executed and\n",
        "Python skips the rest of the tests."
      ],
      "metadata": {
        "id": "eZ5Ixy5aEa8E"
      }
    },
    {
      "cell_type": "code",
      "source": [
        "age = 12\n",
        "if age < 4:\n",
        "  price = 0\n",
        "elif age < 18:\n",
        "  price = 25\n",
        "else:\n",
        "  price = 40\n",
        "print(f\"Your admission cost is ${price}.\")"
      ],
      "metadata": {
        "colab": {
          "base_uri": "https://localhost:8080/"
        },
        "id": "XDC-fGoeEXqA",
        "outputId": "59c152cb-f7bb-4279-e3f0-c0cb74b2b591"
      },
      "execution_count": 6,
      "outputs": [
        {
          "output_type": "stream",
          "name": "stdout",
          "text": [
            "Your admission cost is $25.\n"
          ]
        }
      ]
    },
    {
      "cell_type": "markdown",
      "source": [
        "**Using Multiple elif Blocks**"
      ],
      "metadata": {
        "id": "dj-K820FFVII"
      }
    },
    {
      "cell_type": "code",
      "source": [
        "age = 12\n",
        "if age < 4:\n",
        "  price = 0\n",
        "elif age < 18:\n",
        "  price = 25\n",
        "elif age < 65:\n",
        "  price = 40\n",
        "else:\n",
        "  price = 20\n",
        "print(f\"Your admission cost is ${price}.\")"
      ],
      "metadata": {
        "colab": {
          "base_uri": "https://localhost:8080/"
        },
        "id": "VoMpIhsCFHfq",
        "outputId": "fcd5aca9-77bc-4b57-a007-cfb8b676448a"
      },
      "execution_count": 7,
      "outputs": [
        {
          "output_type": "stream",
          "name": "stdout",
          "text": [
            "Your admission cost is $25.\n"
          ]
        }
      ]
    },
    {
      "cell_type": "markdown",
      "source": [
        "**Omitting the else Block**\n",
        "\n",
        "* The else block is a catchall statement. It matches any condition that\n",
        "wasn’t matched by a specific if or elif test, and that can sometimes include\n",
        "invalid or even malicious data. If you have a specific final condition you are\n",
        "testing for, consider using a final elif block and omit the else block. As a\n",
        "result, you’ll gain extra confidence that your code will run only under the\n",
        "correct conditions."
      ],
      "metadata": {
        "id": "aQ8gW63SFgfg"
      }
    },
    {
      "cell_type": "code",
      "source": [
        "age = 12\n",
        "if age < 4:\n",
        "  price = 0\n",
        "elif age < 18:\n",
        "  price = 25\n",
        "elif age < 65:\n",
        "  price = 40\n",
        "elif age >= 65:\n",
        "  price = 20\n",
        "print(f\"Your admission cost is ${price}.\")"
      ],
      "metadata": {
        "colab": {
          "base_uri": "https://localhost:8080/"
        },
        "id": "gtwKLwD3Fjg5",
        "outputId": "74663cc1-dce7-4c62-975b-a83379476263"
      },
      "execution_count": 8,
      "outputs": [
        {
          "output_type": "stream",
          "name": "stdout",
          "text": [
            "Your admission cost is $25.\n"
          ]
        }
      ]
    },
    {
      "cell_type": "markdown",
      "source": [
        "**Testing Multiple Conditions**\n",
        "\n",
        "* The if-elif-else chain is powerful, but it’s only appropriate to use when you\n",
        "just need one test to pass. As soon as Python finds one test that passes, it\n",
        "skips the rest of the tests. This behavior is beneficial, because it’s efficient\n",
        "and allows you to test for one specific condition.\n",
        "*  However, sometimes it’s important to check all of the conditions of\n",
        "interest. In this case, you should use a series of simple if statements with no\n",
        "elif or else blocks. This technique makes sense when more than one condition could be True, and you want to act on every condition that is True."
      ],
      "metadata": {
        "id": "kSKYffWFGLEf"
      }
    },
    {
      "cell_type": "code",
      "source": [
        "requested_toppings = ['mushrooms', 'extra cheese']\n",
        "if 'mushrooms' in requested_toppings:\n",
        "  print(\"Adding mushrooms.\")\n",
        "if 'pepperoni' in requested_toppings:\n",
        "  print(\"Adding pepperoni.\")\n",
        "if 'extra cheese' in requested_toppings:\n",
        "  print(\"Adding extra cheese.\")\n",
        "print(\"\\nFinished making your pizza!\")"
      ],
      "metadata": {
        "colab": {
          "base_uri": "https://localhost:8080/"
        },
        "id": "9zYUo2mnGIjf",
        "outputId": "e17f9aaa-98ae-4412-89bc-9a467540dc96"
      },
      "execution_count": 9,
      "outputs": [
        {
          "output_type": "stream",
          "name": "stdout",
          "text": [
            "Adding mushrooms.\n",
            "Adding extra cheese.\n",
            "\n",
            "Finished making your pizza!\n"
          ]
        }
      ]
    },
    {
      "cell_type": "markdown",
      "source": [
        "* **This code would not work properly if we used an if-elif-else block,\n",
        "because the code would stop running after only one test passes.**\n",
        "\n",
        "* **In summary, if you want only one block of code to run, use an if-elifelse chain. If more than one block of code needs to run, use a series of\n",
        "independent if statements.**"
      ],
      "metadata": {
        "id": "h0HnIQ4NGxV7"
      }
    },
    {
      "cell_type": "code",
      "source": [
        "requested_toppings = ['mushrooms', 'extra cheese']\n",
        "if 'mushrooms' in requested_toppings:\n",
        "  print(\"Adding mushrooms.\")\n",
        "elif 'pepperoni' in requested_toppings:\n",
        "  print(\"Adding pepperoni.\")\n",
        "elif 'extra cheese' in requested_toppings:\n",
        "  print(\"Adding extra cheese.\")\n",
        "print(\"\\nFinished making your pizza!\")"
      ],
      "metadata": {
        "colab": {
          "base_uri": "https://localhost:8080/"
        },
        "id": "9jCQ58CLGrmU",
        "outputId": "c6cb1aab-9990-4205-fa1e-bbbd9ec40025"
      },
      "execution_count": 10,
      "outputs": [
        {
          "output_type": "stream",
          "name": "stdout",
          "text": [
            "Adding mushrooms.\n",
            "\n",
            "Finished making your pizza!\n"
          ]
        }
      ]
    },
    {
      "cell_type": "markdown",
      "source": [
        "# Using if Statements with Lists"
      ],
      "metadata": {
        "id": "aq7961lJLHu-"
      }
    },
    {
      "cell_type": "markdown",
      "source": [
        "**Checking for Special Items**"
      ],
      "metadata": {
        "id": "N3VpSJHkLPd2"
      }
    },
    {
      "cell_type": "code",
      "source": [
        "requested_toppings = ['mushrooms', 'green peppers', 'extra cheese']\n",
        "for requested_topping in requested_toppings:\n",
        "  if requested_topping == 'green peppers':\n",
        "    print(\"Sorry, we are out of green peppers right now.\")\n",
        "  else:\n",
        "    print(f\"Adding {requested_topping}.\")\n",
        "print(\"\\nFinished making your pizza!\")"
      ],
      "metadata": {
        "colab": {
          "base_uri": "https://localhost:8080/"
        },
        "id": "A2QGYt_yLLn9",
        "outputId": "3dad5747-5f76-4de0-cd75-959641438ddd"
      },
      "execution_count": 11,
      "outputs": [
        {
          "output_type": "stream",
          "name": "stdout",
          "text": [
            "Adding mushrooms.\n",
            "Sorry, we are out of green peppers right now.\n",
            "Adding extra cheese.\n",
            "\n",
            "Finished making your pizza!\n"
          ]
        }
      ]
    },
    {
      "cell_type": "markdown",
      "source": [
        "**Checking That a List Is Not Empty**"
      ],
      "metadata": {
        "id": "mOTtClkULryq"
      }
    },
    {
      "cell_type": "code",
      "source": [
        "requested_toppings = []\n",
        "\n",
        "if requested_toppings:\n",
        "  for requested_topping in requested_toppings:\n",
        "    print(f\"Adding {requested_topping}\")\n",
        "  print(\"Finised making your pizza!\")\n",
        "else:\n",
        "  print(\"Are you sure you want plain pizza?\")\n"
      ],
      "metadata": {
        "colab": {
          "base_uri": "https://localhost:8080/"
        },
        "id": "h8DdTzVuLtha",
        "outputId": "2cc3ca40-84ae-4ff8-f808-c3a72f251249"
      },
      "execution_count": 17,
      "outputs": [
        {
          "output_type": "stream",
          "name": "stdout",
          "text": [
            "Are you sure you want plain pizza?\n"
          ]
        }
      ]
    },
    {
      "cell_type": "markdown",
      "source": [
        "**Using Multiple Lists**"
      ],
      "metadata": {
        "id": "pdTQNADZM9p2"
      }
    },
    {
      "cell_type": "code",
      "source": [
        "available_toppings = ['mushrooms', 'olives', 'green peppers','pepperoni', 'pineapple', 'extra cheese']\n",
        "requested_toppings = ['mushrooms', 'french fries', 'extra cheese']\n",
        "for requested_topping in requested_toppings:\n",
        "  if requested_topping in available_toppings:\n",
        "    print(f\"Adding {requested_topping}\")\n",
        "  else:\n",
        "    print(f\"We dont have {requested_topping}\")\n",
        "print(\"Finished making your pizza\")"
      ],
      "metadata": {
        "colab": {
          "base_uri": "https://localhost:8080/"
        },
        "id": "aNy9s0ibM_gO",
        "outputId": "969d0337-480f-446c-8ca4-a6c62e9e7242"
      },
      "execution_count": 18,
      "outputs": [
        {
          "output_type": "stream",
          "name": "stdout",
          "text": [
            "Adding mushrooms\n",
            "We dont have french fries\n",
            "Adding extra cheese\n",
            "Finished making your pizza\n"
          ]
        }
      ]
    }
  ]
}