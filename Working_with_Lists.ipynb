{
  "nbformat": 4,
  "nbformat_minor": 0,
  "metadata": {
    "colab": {
      "provenance": [],
      "authorship_tag": "ABX9TyPrKdcsD7tdMjMn+5P89HeB",
      "include_colab_link": true
    },
    "kernelspec": {
      "name": "python3",
      "display_name": "Python 3"
    },
    "language_info": {
      "name": "python"
    }
  },
  "cells": [
    {
      "cell_type": "markdown",
      "metadata": {
        "id": "view-in-github",
        "colab_type": "text"
      },
      "source": [
        "<a href=\"https://colab.research.google.com/github/akash20sisi/Python/blob/main/Working_with_Lists.ipynb\" target=\"_parent\"><img src=\"https://colab.research.google.com/assets/colab-badge.svg\" alt=\"Open In Colab\"/></a>"
      ]
    },
    {
      "cell_type": "markdown",
      "source": [
        "**Learning Goals**\n",
        "\n",
        "**In this chapter you'll learn how to loop through an entire\n",
        "list using just a few lines of code regardless of how\n",
        "long the list is.**"
      ],
      "metadata": {
        "id": "6LSK53-pKRa4"
      }
    },
    {
      "cell_type": "markdown",
      "source": [
        "**Looping Through an Entire List**"
      ],
      "metadata": {
        "id": "o-eZm6zVPdJT"
      }
    },
    {
      "cell_type": "code",
      "execution_count": 2,
      "metadata": {
        "colab": {
          "base_uri": "https://localhost:8080/"
        },
        "id": "oLwG_wm1KFtu",
        "outputId": "6de01dc1-0af4-4a8d-e98a-5c2c6b4029e9"
      },
      "outputs": [
        {
          "output_type": "stream",
          "name": "stdout",
          "text": [
            "Alice\n",
            "David\n",
            "Carolina\n"
          ]
        }
      ],
      "source": [
        "magicians = ['alice', 'david', 'carolina']\n",
        "for magician in magicians:\n",
        "  print(magician.title())"
      ]
    },
    {
      "cell_type": "markdown",
      "source": [
        "**Doing More Work Within a for Loop**"
      ],
      "metadata": {
        "id": "cnRz4Ki7Qeqt"
      }
    },
    {
      "cell_type": "code",
      "source": [
        "magicians = ['alice', 'david', 'carolina']\n",
        "for magician in magicians:\n",
        "  print(f\"Hi, {magician.title()}, that was a great trick\")\n",
        "  print(f\"Can't wait to see your next trick\\n\")"
      ],
      "metadata": {
        "colab": {
          "base_uri": "https://localhost:8080/"
        },
        "id": "n83wTfvGPe7O",
        "outputId": "60ff4b85-2f1a-4389-9dd4-bd9527d1c8cc"
      },
      "execution_count": 6,
      "outputs": [
        {
          "output_type": "stream",
          "name": "stdout",
          "text": [
            "Hi, Alice, that was a great trick\n",
            "Can't wait to see your next trick\n",
            "\n",
            "Hi, David, that was a great trick\n",
            "Can't wait to see your next trick\n",
            "\n",
            "Hi, Carolina, that was a great trick\n",
            "Can't wait to see your next trick\n",
            "\n"
          ]
        }
      ]
    },
    {
      "cell_type": "markdown",
      "source": [
        "**Doing Something After a for Loop**"
      ],
      "metadata": {
        "id": "L5tVk1iCRan0"
      }
    },
    {
      "cell_type": "code",
      "source": [
        "magicians = ['alice', 'david', 'carolina']\n",
        "for magician in magicians:\n",
        "  print(f\"Hi, {magician.title()}, that was a great trick\")\n",
        "print(\"Thank You Everyone, That was a great show\")"
      ],
      "metadata": {
        "colab": {
          "base_uri": "https://localhost:8080/"
        },
        "id": "5I2dWfDSRcjR",
        "outputId": "61dcc056-8596-47b3-94db-28942a559bc1"
      },
      "execution_count": 7,
      "outputs": [
        {
          "output_type": "stream",
          "name": "stdout",
          "text": [
            "Hi, Alice, that was a great trick\n",
            "Hi, David, that was a great trick\n",
            "Hi, Carolina, that was a great trick\n",
            "Thank You Everyone, That was a great show\n"
          ]
        }
      ]
    },
    {
      "cell_type": "markdown",
      "source": [
        "# Making Numerical Lists"
      ],
      "metadata": {
        "id": "gBWaeyBEUEeR"
      }
    },
    {
      "cell_type": "code",
      "source": [],
      "metadata": {
        "id": "M7JcKOh-UHy_"
      },
      "execution_count": null,
      "outputs": []
    },
    {
      "cell_type": "markdown",
      "source": [
        "**Using the range() Function**\n",
        "1. Python’s range() function makes it easy to generate a series of numbers."
      ],
      "metadata": {
        "id": "J3O_p9dkUJ39"
      }
    },
    {
      "cell_type": "code",
      "source": [
        "for value in range(1,6):\n",
        "  print(value)"
      ],
      "metadata": {
        "colab": {
          "base_uri": "https://localhost:8080/"
        },
        "id": "F-UdBuU5UL8W",
        "outputId": "fe398dce-9349-4a5b-9958-a160491fac34"
      },
      "execution_count": 8,
      "outputs": [
        {
          "output_type": "stream",
          "name": "stdout",
          "text": [
            "1\n",
            "2\n",
            "3\n",
            "4\n",
            "5\n"
          ]
        }
      ]
    },
    {
      "cell_type": "code",
      "source": [
        "for value in range(6):\n",
        "  print(value)"
      ],
      "metadata": {
        "colab": {
          "base_uri": "https://localhost:8080/"
        },
        "id": "1GgZGGXrUm3U",
        "outputId": "0d84566b-777c-4e97-ad29-9343b42c3fef"
      },
      "execution_count": 9,
      "outputs": [
        {
          "output_type": "stream",
          "name": "stdout",
          "text": [
            "0\n",
            "1\n",
            "2\n",
            "3\n",
            "4\n",
            "5\n"
          ]
        }
      ]
    },
    {
      "cell_type": "markdown",
      "source": [
        "**Using range() to Make a List of Numbers**"
      ],
      "metadata": {
        "id": "FSXr7YqJU0EI"
      }
    },
    {
      "cell_type": "code",
      "source": [
        "numbers  = list(range(1,5))\n",
        "print(numbers)"
      ],
      "metadata": {
        "colab": {
          "base_uri": "https://localhost:8080/"
        },
        "id": "7P0_yucWU1zf",
        "outputId": "ada070b3-1962-4e14-cb52-ee72ee011a8e"
      },
      "execution_count": 12,
      "outputs": [
        {
          "output_type": "stream",
          "name": "stdout",
          "text": [
            "[1, 2, 3, 4]\n"
          ]
        }
      ]
    },
    {
      "cell_type": "code",
      "source": [
        "even_numbers = list(range(2,11,2))\n",
        "print(even_numbers)"
      ],
      "metadata": {
        "colab": {
          "base_uri": "https://localhost:8080/"
        },
        "id": "ev4X_p9dVV2A",
        "outputId": "9924f70c-67bb-4ed5-f5bd-2e0aa3f89d29"
      },
      "execution_count": 16,
      "outputs": [
        {
          "output_type": "stream",
          "name": "stdout",
          "text": [
            "[2, 4, 6, 8, 10]\n"
          ]
        }
      ]
    },
    {
      "cell_type": "code",
      "source": [
        "squares = []\n",
        "for number in range(1,20):\n",
        "  square = number**2\n",
        "  squares.append(square)\n",
        "\n",
        "print(squares)"
      ],
      "metadata": {
        "colab": {
          "base_uri": "https://localhost:8080/"
        },
        "id": "caLGEkCVVmz1",
        "outputId": "1db1075a-fc5b-441d-af29-ccc2e1df38c9"
      },
      "execution_count": 17,
      "outputs": [
        {
          "output_type": "stream",
          "name": "stdout",
          "text": [
            "[1, 4, 9, 16, 25, 36, 49, 64, 81, 100, 121, 144, 169, 196, 225, 256, 289, 324, 361]\n"
          ]
        }
      ]
    },
    {
      "cell_type": "markdown",
      "source": [
        "**Simple Statistics with a List of Numbers**"
      ],
      "metadata": {
        "id": "OZUoJKAcXIoa"
      }
    },
    {
      "cell_type": "code",
      "source": [
        "print(min(squares))\n",
        "print(max(squares))\n",
        "print(sum(squares))"
      ],
      "metadata": {
        "colab": {
          "base_uri": "https://localhost:8080/"
        },
        "id": "m1idp9MtXKkt",
        "outputId": "984ee647-c731-4771-fac6-2484085d78e7"
      },
      "execution_count": 21,
      "outputs": [
        {
          "output_type": "stream",
          "name": "stdout",
          "text": [
            "1\n",
            "361\n",
            "2470\n"
          ]
        }
      ]
    },
    {
      "cell_type": "markdown",
      "source": [
        "**List Comprehensions**"
      ],
      "metadata": {
        "id": "JnJG5gMyXoa_"
      }
    },
    {
      "cell_type": "code",
      "source": [
        "squares = [value**2 for value in range(1,21)]\n",
        "print(squares)"
      ],
      "metadata": {
        "colab": {
          "base_uri": "https://localhost:8080/"
        },
        "id": "dnlf0RhGXPNG",
        "outputId": "07373e4b-76db-45ab-a7a8-22bd9104adf5"
      },
      "execution_count": 36,
      "outputs": [
        {
          "output_type": "stream",
          "name": "stdout",
          "text": [
            "[1, 4, 9, 16, 25, 36, 49, 64, 81, 100, 121, 144, 169, 196, 225, 256, 289, 324, 361, 400]\n"
          ]
        }
      ]
    },
    {
      "cell_type": "markdown",
      "source": [
        "# **Working with Part of a List**\n"
      ],
      "metadata": {
        "id": "ToaY192wX999"
      }
    },
    {
      "cell_type": "markdown",
      "source": [
        "**Slicing a List**"
      ],
      "metadata": {
        "id": "1PPZri6DYG8L"
      }
    },
    {
      "cell_type": "code",
      "source": [
        "print(squares[1:3])\n",
        "# del squares[1:3]\n",
        "print(squares)\n",
        "print(squares[:9])\n",
        "print(squares[1:])\n",
        "print(squares[-3:])\n",
        "print(squares[:-3])"
      ],
      "metadata": {
        "colab": {
          "base_uri": "https://localhost:8080/"
        },
        "id": "qzsMI-bZXwmB",
        "outputId": "af2468f3-e9be-407a-cfff-2bd6dd8ae519"
      },
      "execution_count": 41,
      "outputs": [
        {
          "output_type": "stream",
          "name": "stdout",
          "text": [
            "[4, 9]\n",
            "[1, 4, 9, 16, 25, 36, 49, 64, 81, 100, 121, 144, 169, 196, 225, 256, 289, 324, 361, 400]\n",
            "[1, 4, 9, 16, 25, 36, 49, 64, 81]\n",
            "[4, 9, 16, 25, 36, 49, 64, 81, 100, 121, 144, 169, 196, 225, 256, 289, 324, 361, 400]\n",
            "[324, 361, 400]\n",
            "[1, 4, 9, 16, 25, 36, 49, 64, 81, 100, 121, 144, 169, 196, 225, 256, 289]\n"
          ]
        }
      ]
    },
    {
      "cell_type": "markdown",
      "source": [
        "**Looping Through a Slice**"
      ],
      "metadata": {
        "id": "AVxWoaE2adau"
      }
    },
    {
      "cell_type": "code",
      "source": [
        "players = ['charles', 'martina', 'michael', 'florence', 'eli']\n",
        "print(\"Here are the first three players on my team:\")\n",
        "for player in players[:3]:\n",
        " print(player.title())"
      ],
      "metadata": {
        "colab": {
          "base_uri": "https://localhost:8080/"
        },
        "id": "Fs2yh0QFYrKk",
        "outputId": "8689a644-ac07-4273-a4fc-30a2c6d54a19"
      },
      "execution_count": 43,
      "outputs": [
        {
          "output_type": "stream",
          "name": "stdout",
          "text": [
            "Here are the first three players on my team:\n",
            "Charles\n",
            "Martina\n",
            "Michael\n"
          ]
        }
      ]
    },
    {
      "cell_type": "markdown",
      "source": [
        "**Copying a List**"
      ],
      "metadata": {
        "id": "B1v0q0PJcRFb"
      }
    },
    {
      "cell_type": "code",
      "source": [
        "my_bikes = ['r15','ducati','gixxer']\n",
        "my_friends_bike = my_bikes[:]\n",
        "print(my_friends_bike)\n",
        "print(my_bikes)\n",
        "my_bikes.append('pulsar')\n",
        "my_friends_bike.append('ktm')\n",
        "print(my_bikes)\n",
        "print(my_friends_bike)"
      ],
      "metadata": {
        "colab": {
          "base_uri": "https://localhost:8080/"
        },
        "id": "bPGtqnUgak-e",
        "outputId": "3aa783ce-43db-467d-d2df-bb4b6f30df77"
      },
      "execution_count": 46,
      "outputs": [
        {
          "output_type": "stream",
          "name": "stdout",
          "text": [
            "['r15', 'ducati', 'gixxer']\n",
            "['r15', 'ducati', 'gixxer']\n",
            "['r15', 'ducati', 'gixxer', 'pulsar']\n",
            "['r15', 'ducati', 'gixxer', 'ktm']\n"
          ]
        }
      ]
    },
    {
      "cell_type": "markdown",
      "source": [
        "**Note**\n",
        "1. Instead of storing a copy of my_bikes in my_friends_bikes, we set my_friends_bikes equal to my_bikes. This syntax actually tells Python to associate\n",
        "the new variable my_friends_bikes with the list that is already associated with\n",
        "my_bikes, so now both variables point to the same list. As a result, when we\n",
        "add 'pulsar' to my_bikes, it will also appear in my_friends_bikes. Likewise 'ktm' will appear in both lists, even though it appears to be added only to my_friends_bikes."
      ],
      "metadata": {
        "id": "NqnDuIRTc7xE"
      }
    },
    {
      "cell_type": "code",
      "source": [
        "my_bikes.append('enfield')\n",
        "my_friends_bike.append(\"ninja\")\n",
        "print(my_bikes)\n",
        "print(my_friends_bike)"
      ],
      "metadata": {
        "colab": {
          "base_uri": "https://localhost:8080/"
        },
        "id": "68hBGzMQd0ZY",
        "outputId": "5f39e9d6-6529-4725-c94b-6ba4625d77e4"
      },
      "execution_count": 51,
      "outputs": [
        {
          "output_type": "stream",
          "name": "stdout",
          "text": [
            "['r15', 'ducati', 'gixxer', 'pulsar', 'enfield', 'enfield', 'enfield', 'enfield']\n",
            "['r15', 'ducati', 'gixxer', 'ktm', 'ninja', 'ninja']\n"
          ]
        }
      ]
    },
    {
      "cell_type": "markdown",
      "source": [
        "# Tuples\n",
        "\n",
        "1. Lists work well for storing collections of items that can change throughout\n",
        "the life of a program. The ability to modify lists is particularly important\n",
        "when you're working with a list of users on a website or a list of characters in\n",
        "a game. However, sometimes you'll want to create a list of items that cannot\n",
        "change.\n",
        "2. Tuples allow you to do just that. Python refers to values that cannot\n",
        "change as immutable, and an immutable list is called a tuple.\n",
        "3. A tuple looks just like a list except you use parentheses instead of square\n",
        "brackets. Once you define a tuple, you can access individual elements by\n",
        "using each item’s index, just as you would for a list.\n",
        "4.\n",
        "When compared with lists, tuples are simple data structures. Use them\n",
        "when you want to store a set of values that should not be changed throughout the life of a program.\n"
      ],
      "metadata": {
        "id": "zs_yd9gAfs2o"
      }
    },
    {
      "cell_type": "code",
      "source": [
        "dimension = (10,2)\n",
        "print(dimension[0])\n",
        "print(dimension[1])\n",
        "# dimension[0] =9 , tuples are immutable"
      ],
      "metadata": {
        "colab": {
          "base_uri": "https://localhost:8080/"
        },
        "id": "Us_8Zvf0fute",
        "outputId": "86393abe-3c38-423a-98b7-29f9477cd988"
      },
      "execution_count": 57,
      "outputs": [
        {
          "output_type": "stream",
          "name": "stdout",
          "text": [
            "10\n",
            "2\n"
          ]
        }
      ]
    },
    {
      "cell_type": "code",
      "source": [
        "# tuple with only one element\n",
        "dimensions  = (9,)\n",
        "print(dimensions)"
      ],
      "metadata": {
        "colab": {
          "base_uri": "https://localhost:8080/"
        },
        "id": "M4ttnKgjhqFE",
        "outputId": "a9428daf-98b5-4c98-e056-decaeb1801f9"
      },
      "execution_count": 59,
      "outputs": [
        {
          "output_type": "stream",
          "name": "stdout",
          "text": [
            "(9,)\n"
          ]
        }
      ]
    },
    {
      "cell_type": "markdown",
      "source": [
        "**Looping Through All Values in a Tuple**"
      ],
      "metadata": {
        "id": "5gViDS46h9eU"
      }
    },
    {
      "cell_type": "code",
      "source": [
        "dimensions  = (1,2,3,4)\n",
        "for dimension in dimensions:\n",
        "  print(dimension)"
      ],
      "metadata": {
        "colab": {
          "base_uri": "https://localhost:8080/"
        },
        "id": "NP5H8z7kh_Dj",
        "outputId": "bb189c96-50c4-4a0e-8935-954548440010"
      },
      "execution_count": 60,
      "outputs": [
        {
          "output_type": "stream",
          "name": "stdout",
          "text": [
            "1\n",
            "2\n",
            "3\n",
            "4\n"
          ]
        }
      ]
    }
  ]
}