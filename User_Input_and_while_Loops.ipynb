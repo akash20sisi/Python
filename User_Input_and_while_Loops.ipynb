{
  "nbformat": 4,
  "nbformat_minor": 0,
  "metadata": {
    "colab": {
      "provenance": [],
      "authorship_tag": "ABX9TyP0kLpCPm6P/npwlW///F2P",
      "include_colab_link": true
    },
    "kernelspec": {
      "name": "python3",
      "display_name": "Python 3"
    },
    "language_info": {
      "name": "python"
    }
  },
  "cells": [
    {
      "cell_type": "markdown",
      "metadata": {
        "id": "view-in-github",
        "colab_type": "text"
      },
      "source": [
        "<a href=\"https://colab.research.google.com/github/akash20sisi/Python/blob/main/User_Input_and_while_Loops.ipynb\" target=\"_parent\"><img src=\"https://colab.research.google.com/assets/colab-badge.svg\" alt=\"Open In Colab\"/></a>"
      ]
    },
    {
      "cell_type": "markdown",
      "source": [
        "**How the input() Function Works**\n",
        "* The input() function pauses your program and waits for the user to enter\n",
        "some text. Once Python receives the user’s input, it assigns that input to a\n",
        "variable to make it convenient for you to work with.\n",
        "\n",
        "* When you use the input() function, Python interprets everything the user\n",
        "enters as a string."
      ],
      "metadata": {
        "id": "ROxPT_FVfyQz"
      }
    },
    {
      "cell_type": "code",
      "execution_count": 2,
      "metadata": {
        "colab": {
          "base_uri": "https://localhost:8080/"
        },
        "id": "TVOitzd2fo1b",
        "outputId": "007ce75c-aa46-41c7-f849-6fa7276df0ba"
      },
      "outputs": [
        {
          "output_type": "stream",
          "name": "stdout",
          "text": [
            "Please, Enter your user nameakashs6844\n",
            "akashs6844\n"
          ]
        }
      ],
      "source": [
        "message  = input(\"Please, Enter your user name\")\n",
        "print(message)"
      ]
    },
    {
      "cell_type": "markdown",
      "source": [
        "**Sometimes you’ll want to write a prompt that’s longer than one line.\n",
        "For example, you might want to tell the user why you’re asking for certain\n",
        "input. You can assign your prompt to a variable and pass that variable to the\n",
        "input() function. This allows you to build your prompt over several lines,\n",
        "then write a clean input() statement.**"
      ],
      "metadata": {
        "id": "JAp1LEuMg8ZW"
      }
    },
    {
      "cell_type": "code",
      "source": [
        "prompt = \"What is your name? \"\n",
        "prompt += \"Are you 18+?\"\n",
        "message = input(prompt)\n",
        "print(message)"
      ],
      "metadata": {
        "colab": {
          "base_uri": "https://localhost:8080/"
        },
        "id": "1dXX-Xztg-ak",
        "outputId": "5d97d2a0-eb29-45b9-e8dc-abb12ab9b5a1"
      },
      "execution_count": 4,
      "outputs": [
        {
          "output_type": "stream",
          "name": "stdout",
          "text": [
            "What is your name? Are you 18+?akash 23\n",
            "akash 23\n"
          ]
        }
      ]
    },
    {
      "cell_type": "code",
      "source": [
        "string_1 = 'akash'\n",
        "string_2 = 'kumar'\n",
        "string_1 + ' ' + string_2"
      ],
      "metadata": {
        "colab": {
          "base_uri": "https://localhost:8080/",
          "height": 35
        },
        "id": "-uQmm5fDhkee",
        "outputId": "b5200e89-8fcd-48e3-c0eb-fe345ae266f4"
      },
      "execution_count": 7,
      "outputs": [
        {
          "output_type": "execute_result",
          "data": {
            "text/plain": [
              "'akash kumar'"
            ],
            "application/vnd.google.colaboratory.intrinsic+json": {
              "type": "string"
            }
          },
          "metadata": {},
          "execution_count": 7
        }
      ]
    },
    {
      "cell_type": "markdown",
      "source": [
        "**Using int() to Accept Numerical Input**"
      ],
      "metadata": {
        "id": "9z0EMcx9h2JN"
      }
    },
    {
      "cell_type": "code",
      "source": [
        "height = int(input(\"Please, Enter your height: \"))\n",
        "if height >= 3:\n",
        "  print(\"you can ride the roller coaster\")\n",
        "else:\n",
        "  print(\"you cant ride the roller coaster\")\n"
      ],
      "metadata": {
        "colab": {
          "base_uri": "https://localhost:8080/"
        },
        "id": "TnrsC4VYh4R_",
        "outputId": "7e930c82-df84-438d-eb2b-e41c356210e8"
      },
      "execution_count": 8,
      "outputs": [
        {
          "output_type": "stream",
          "name": "stdout",
          "text": [
            "Please, Enter your height: 5\n",
            "you can ride the roller coaster\n"
          ]
        }
      ]
    },
    {
      "cell_type": "markdown",
      "source": [
        "# **Introducing while Loops**\n",
        "* The for loop takes a collection of items and executes a block of code once\n",
        "for each item in the collection. In contrast, the while loop runs as long as,\n",
        "or while, a certain condition is true."
      ],
      "metadata": {
        "id": "RP1EQ2Pvj27o"
      }
    },
    {
      "cell_type": "code",
      "source": [
        "prompt = \"\\nTell me something, and I will repeat it back to you:\"\n",
        "prompt += \"\\nEnter 'quit to end the programe\"\n",
        "message = ''\n",
        "while message != 'quit':\n",
        "  message = input(prompt)\n",
        "  if message != 'quit':\n",
        "    print(message)"
      ],
      "metadata": {
        "colab": {
          "base_uri": "https://localhost:8080/"
        },
        "id": "Sj0twGY8j47K",
        "outputId": "f54339e7-09c9-4ed8-d1c3-c4a6a031a89a"
      },
      "execution_count": 13,
      "outputs": [
        {
          "name": "stdout",
          "output_type": "stream",
          "text": [
            "\n",
            "Tell me something, and I will repeat it back to you:\n",
            "Enter 'quit to end the programequit\n"
          ]
        }
      ]
    },
    {
      "cell_type": "markdown",
      "source": [
        "**Using a Flag**"
      ],
      "metadata": {
        "id": "LwqwU9gZo9cn"
      }
    },
    {
      "cell_type": "code",
      "source": [
        "from pickle import TRUE\n",
        "prompt = \"\\nTell me something, and I will repeat it back to you:\"\n",
        "prompt += \"\\nEnter 'quit to end the programe\"\n",
        "active = True\n",
        "while active:\n",
        "  message = input(prompt)\n",
        "  if message == 'quit':\n",
        "    active = False\n",
        "  else:\n",
        "    print(message)"
      ],
      "metadata": {
        "colab": {
          "base_uri": "https://localhost:8080/"
        },
        "id": "9obYA5Geo_NB",
        "outputId": "a0e3cdb0-d85d-47ee-db5e-75142c454d46"
      },
      "execution_count": 19,
      "outputs": [
        {
          "name": "stdout",
          "output_type": "stream",
          "text": [
            "\n",
            "Tell me something, and I will repeat it back to you:\n",
            "Enter 'quit to end the programequit\n"
          ]
        }
      ]
    },
    {
      "cell_type": "markdown",
      "source": [
        "**Using break to Exit a Loop**"
      ],
      "metadata": {
        "id": "NbWdowazqxLP"
      }
    },
    {
      "cell_type": "code",
      "source": [
        "prompt = \"\\nPlease enter the name of a city you have visited:\"\n",
        "prompt += \"\\n(Enter 'quit' when you are finished.) \"\n",
        "\n",
        "while True:\n",
        "  city = input(prompt)\n",
        "  if city == 'quit':\n",
        "     break\n",
        "  else:\n",
        "    print(f\"I'd love to go to {city.title()}!\")"
      ],
      "metadata": {
        "colab": {
          "base_uri": "https://localhost:8080/"
        },
        "id": "Ky5U7FgJqzJI",
        "outputId": "857dc881-ecfa-4aa0-f9b9-22d33ecdd6d9"
      },
      "execution_count": 23,
      "outputs": [
        {
          "name": "stdout",
          "output_type": "stream",
          "text": [
            "\n",
            "Please enter the name of a city you have visited:\n",
            "(Enter 'quit' when you are finished.) quit\n"
          ]
        }
      ]
    },
    {
      "cell_type": "markdown",
      "source": [
        "**Using continue in a Loop**\n",
        "* Rather than breaking out of a loop entirely without executing the rest of its\n",
        "code, you can use the continue statement to return to the beginning of the\n",
        "loop based on the result of a conditional test."
      ],
      "metadata": {
        "id": "v0rcxQTgwt4d"
      }
    },
    {
      "cell_type": "code",
      "source": [
        "current_number  = 0\n",
        "while current_number < 10:\n",
        "  current_number += 1\n",
        "  if current_number % 2 == 0:\n",
        "    continue\n",
        "  else:\n",
        "    print(current_number)"
      ],
      "metadata": {
        "colab": {
          "base_uri": "https://localhost:8080/"
        },
        "id": "15VcBTZhwvvy",
        "outputId": "bde819f5-52d8-48e1-e073-8f50518c2580"
      },
      "execution_count": 26,
      "outputs": [
        {
          "output_type": "stream",
          "name": "stdout",
          "text": [
            "1\n",
            "3\n",
            "5\n",
            "7\n",
            "9\n"
          ]
        }
      ]
    },
    {
      "cell_type": "markdown",
      "source": [
        "**Using a while Loop with Lists and Dictionaries**\n",
        "\n",
        "* A for loop is effective for looping through a list, but you shouldn’t modify\n",
        "a list inside a for loop because Python will have trouble keeping track of the\n",
        "items in the list. To modify a list as you work through it, use a while loop.\n",
        "Using while loops with lists and dictionaries allows you to collect, store, and\n",
        "organize lots of input to examine and report on later."
      ],
      "metadata": {
        "id": "-zAFrfTRxuox"
      }
    },
    {
      "cell_type": "markdown",
      "source": [
        "**Moving Items from One List to Another**"
      ],
      "metadata": {
        "id": "RTC2NYgZ3VSW"
      }
    },
    {
      "cell_type": "code",
      "source": [
        "unconfirmed_users = ['alice', 'brian', 'candace']\n",
        "confirmed_users = []\n",
        "while unconfirmed_users:\n",
        "  current_user = unconfirmed_users.pop()\n",
        "  print(f\"Verifying user: {current_user.title()}\")\n",
        "  confirmed_users.append(current_user)\n",
        "print(\"\\nThe following users have been confirmed:\")\n",
        "for confirmed_user in confirmed_users:\n",
        " print(confirmed_user.title())"
      ],
      "metadata": {
        "colab": {
          "base_uri": "https://localhost:8080/"
        },
        "id": "SnSXdkEB3CDr",
        "outputId": "2af91953-07bb-40e2-b9fd-e9ecac288d7c"
      },
      "execution_count": 28,
      "outputs": [
        {
          "output_type": "stream",
          "name": "stdout",
          "text": [
            "Verifying user: Candace\n",
            "Verifying user: Brian\n",
            "Verifying user: Alice\n",
            "\n",
            "The following users have been confirmed:\n",
            "Candace\n",
            "Brian\n",
            "Alice\n"
          ]
        }
      ]
    },
    {
      "cell_type": "markdown",
      "source": [
        "**Filling a Dictionary with User Input**"
      ],
      "metadata": {
        "id": "RSFwQien4D4g"
      }
    },
    {
      "cell_type": "code",
      "source": [
        "responses = {}\n",
        "# Set a flag to indicate that polling is active.\n",
        "polling_active = True\n",
        "while polling_active:\n",
        "  # Prompt for the person's name and response.\n",
        "  name = input(\"\\nWhat is your name? \")\n",
        "  response = input(\"Which mountain would you like to climb someday? \")\n",
        "  # Store the response in the dictionary.\n",
        "  responses[name] = response\n",
        "\n",
        "  # Find out if anyone else is going to take the poll.\n",
        "  repeat = input(\"Would you like to let another person respond? (yes/ no) \")\n",
        "  if repeat.lower() == 'no':\n",
        "    polling_active = False\n",
        "\n",
        "  # Polling is complete. Show the results.\n",
        "print(\"\\n--- Poll Results ---\")\n",
        "for name, response in responses.items():\n",
        " print(f\"{name} would like to climb {response}.\")"
      ],
      "metadata": {
        "colab": {
          "base_uri": "https://localhost:8080/"
        },
        "id": "NVRN0rZr4FtJ",
        "outputId": "8e448285-1acc-4129-8943-a9b84b7b6163"
      },
      "execution_count": 35,
      "outputs": [
        {
          "output_type": "stream",
          "name": "stdout",
          "text": [
            "\n",
            "What is your name? akash\n",
            "Which mountain would you like to climb someday? mt\n",
            "Would you like to let another person respond? (yes/ no) NO\n",
            "\n",
            "--- Poll Results ---\n",
            "akash would like to climb mt.\n"
          ]
        }
      ]
    }
  ]
}