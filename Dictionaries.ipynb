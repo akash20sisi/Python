{
  "nbformat": 4,
  "nbformat_minor": 0,
  "metadata": {
    "colab": {
      "provenance": [],
      "authorship_tag": "ABX9TyO37F5L0M8/1SahENA70A4H",
      "include_colab_link": true
    },
    "kernelspec": {
      "name": "python3",
      "display_name": "Python 3"
    },
    "language_info": {
      "name": "python"
    }
  },
  "cells": [
    {
      "cell_type": "markdown",
      "metadata": {
        "id": "view-in-github",
        "colab_type": "text"
      },
      "source": [
        "<a href=\"https://colab.research.google.com/github/akash20sisi/Python/blob/main/Dictionaries.ipynb\" target=\"_parent\"><img src=\"https://colab.research.google.com/assets/colab-badge.svg\" alt=\"Open In Colab\"/></a>"
      ]
    },
    {
      "cell_type": "markdown",
      "source": [
        "**A dictionary in Python is a collection of key-value pairs. Each key is connected\n",
        "to a value, and you can use a key to access the value associated with that key.\n",
        "A key’s value can be a number, a string, a list, or even another dictionary.\n",
        "In fact, you can use any object that you can create in Python as a value in a\n",
        "dictionary.**"
      ],
      "metadata": {
        "id": "wG1NQF6bSy4X"
      }
    },
    {
      "cell_type": "code",
      "execution_count": null,
      "metadata": {
        "colab": {
          "base_uri": "https://localhost:8080/"
        },
        "id": "rvGhG0pKSDsQ",
        "outputId": "72147661-9763-4321-9ce9-b895ec35c571"
      },
      "outputs": [
        {
          "output_type": "stream",
          "name": "stdout",
          "text": [
            "blue\n",
            "5\n"
          ]
        }
      ],
      "source": [
        "alien = {'color' : 'blue', 'age' :5}\n",
        "print(alien['color'])\n",
        "print(alien['age'])"
      ]
    },
    {
      "cell_type": "markdown",
      "source": [
        "**Adding New Key-Value Pairs**"
      ],
      "metadata": {
        "id": "MAScaDFPTuU6"
      }
    },
    {
      "cell_type": "code",
      "source": [
        "alien['height'] = 9\n",
        "print(alien)"
      ],
      "metadata": {
        "colab": {
          "base_uri": "https://localhost:8080/"
        },
        "id": "gmGjjzpMTv-4",
        "outputId": "d8def1d4-9d40-4d61-fd04-e7c2732312c3"
      },
      "execution_count": null,
      "outputs": [
        {
          "output_type": "stream",
          "name": "stdout",
          "text": [
            "{'color': 'blue', 'age': 5, 'height': 9}\n"
          ]
        }
      ]
    },
    {
      "cell_type": "markdown",
      "source": [
        "**Modifying Values in a Dictionary**"
      ],
      "metadata": {
        "id": "hNf4NgyFUytz"
      }
    },
    {
      "cell_type": "code",
      "source": [
        "alien['weight'] = 10\n",
        "print(alien)\n",
        "print(f\"The alien weight is {alien['weight']}\")\n",
        "alien['weight'] = 34\n",
        "print(f\"The alien new weight is {alien['weight']}\")"
      ],
      "metadata": {
        "colab": {
          "base_uri": "https://localhost:8080/"
        },
        "id": "SmuIqFyWU0uu",
        "outputId": "0b837416-4ac3-47e6-a3e9-f16218d97082"
      },
      "execution_count": null,
      "outputs": [
        {
          "output_type": "stream",
          "name": "stdout",
          "text": [
            "{'color': 'blue', 'age': 5, 'height': 9, 'weight': 10}\n",
            "The alien weight is 10\n",
            "The alien new weight is 34\n"
          ]
        }
      ]
    },
    {
      "cell_type": "markdown",
      "source": [
        "**Removing Key-Value Pairs**"
      ],
      "metadata": {
        "id": "7JdfLz-aWtcq"
      }
    },
    {
      "cell_type": "code",
      "source": [
        "print(alien)\n",
        "del alien['weight'], alien['age']\n",
        "print(alien)"
      ],
      "metadata": {
        "colab": {
          "base_uri": "https://localhost:8080/"
        },
        "id": "Dx6MMpuAWvVn",
        "outputId": "70342acc-c365-403c-8205-bda562e8a110"
      },
      "execution_count": null,
      "outputs": [
        {
          "output_type": "stream",
          "name": "stdout",
          "text": [
            "{'color': 'blue', 'age': 5, 'height': 9, 'weight': 34}\n",
            "{'color': 'blue', 'height': 9}\n"
          ]
        }
      ]
    },
    {
      "cell_type": "markdown",
      "source": [
        "**Using get() to Access Values.**\n",
        "\n",
        "* Using keys in square brackets to retrieve the value you’re interested in\n",
        "from a dictionary might cause one potential problem: if the key you ask for\n",
        "doesn’t exist, you’ll get an error.\n",
        "\n",
        "* The get() method requires a key as a first argument. As a second\n",
        "optional argument, you can pass the value to be returned if the key doesn’t\n",
        "exist."
      ],
      "metadata": {
        "id": "8g5JyOIvZmIE"
      }
    },
    {
      "cell_type": "code",
      "source": [
        "print(alien.get('age','age doesnt exist'))\n",
        "print(alien.get('weight'))"
      ],
      "metadata": {
        "id": "iGTf8QsTZyU7",
        "colab": {
          "base_uri": "https://localhost:8080/"
        },
        "outputId": "3cae69b2-a819-4ec6-ef42-cbe00d8d21bb"
      },
      "execution_count": 27,
      "outputs": [
        {
          "output_type": "stream",
          "name": "stdout",
          "text": [
            "age doesnt exist\n",
            "None\n"
          ]
        }
      ]
    },
    {
      "cell_type": "markdown",
      "source": [
        "# Looping Through a Dictionary"
      ],
      "metadata": {
        "id": "mNVLJyMleJol"
      }
    },
    {
      "cell_type": "markdown",
      "source": [
        "**Looping Through All Key-Value Pairs**"
      ],
      "metadata": {
        "id": "JjI0Hg4gePOe"
      }
    },
    {
      "cell_type": "code",
      "source": [
        "user_0 = {\n",
        " 'username': 'efermi',\n",
        " 'first': 'enrico',\n",
        " 'last': 'fermi',\n",
        " }"
      ],
      "metadata": {
        "id": "nmguBEEjeQun"
      },
      "execution_count": 28,
      "outputs": []
    },
    {
      "cell_type": "code",
      "source": [
        "for item in user_0.items():\n",
        "  print(item)"
      ],
      "metadata": {
        "colab": {
          "base_uri": "https://localhost:8080/"
        },
        "id": "lJTYLmX3eNO3",
        "outputId": "a5b3aef5-8cfa-4dd6-981b-8b84ce75a52b"
      },
      "execution_count": 37,
      "outputs": [
        {
          "output_type": "stream",
          "name": "stdout",
          "text": [
            "('username', 'efermi')\n",
            "('first', 'enrico')\n",
            "('last', 'fermi')\n"
          ]
        }
      ]
    },
    {
      "cell_type": "code",
      "source": [
        "for key, value in user_0.items():\n",
        "  print(f\"key {key}\")\n",
        "  print(f\"value {value}\\n\")"
      ],
      "metadata": {
        "colab": {
          "base_uri": "https://localhost:8080/"
        },
        "id": "GEeG6WJleTYV",
        "outputId": "c369775b-1bfd-4935-824d-93d44f28c980"
      },
      "execution_count": 36,
      "outputs": [
        {
          "output_type": "stream",
          "name": "stdout",
          "text": [
            "key username\n",
            "value efermi\n",
            "\n",
            "key first\n",
            "value enrico\n",
            "\n",
            "key last\n",
            "value fermi\n",
            "\n"
          ]
        }
      ]
    },
    {
      "cell_type": "markdown",
      "source": [
        "**Looping Through All the Keys in a Dictionary**"
      ],
      "metadata": {
        "id": "OdFD-kMzgN9s"
      }
    },
    {
      "cell_type": "code",
      "source": [
        "favorite_languages = {\n",
        " 'jen': 'python',\n",
        " 'sarah': 'c',\n",
        " 'edward': 'ruby',\n",
        " 'phil': 'python',\n",
        " }"
      ],
      "metadata": {
        "id": "ynp_lG0rgQxC"
      },
      "execution_count": 38,
      "outputs": []
    },
    {
      "cell_type": "code",
      "source": [
        "for name in favorite_languages.keys():\n",
        "  print(name)\n",
        "\n",
        "# this code will also give same output. Looping through the keys is actually the default behavior when looping through a dictionary.\n",
        "for name in favorite_languages:\n",
        "  print(f'\\n{name}')"
      ],
      "metadata": {
        "colab": {
          "base_uri": "https://localhost:8080/"
        },
        "id": "MGNJ2zWJgWOx",
        "outputId": "9cb24810-0306-4dd6-934e-2b516c91f698"
      },
      "execution_count": 42,
      "outputs": [
        {
          "output_type": "stream",
          "name": "stdout",
          "text": [
            "jen\n",
            "sarah\n",
            "edward\n",
            "phil\n",
            "\n",
            "jen\n",
            "\n",
            "sarah\n",
            "\n",
            "edward\n",
            "\n",
            "phil\n"
          ]
        }
      ]
    },
    {
      "cell_type": "markdown",
      "source": [
        "**Looping Through a Dictionary’s Keys in a Particular Order**"
      ],
      "metadata": {
        "id": "pcXgaEXZh8d7"
      }
    },
    {
      "cell_type": "code",
      "source": [
        "favorite_languages = {\n",
        " 'jen': 'python',\n",
        " 'sarah': 'c',\n",
        " 'edward': 'ruby',\n",
        " 'phil': 'python',\n",
        " }"
      ],
      "metadata": {
        "id": "-iGgMIuOh-Cx"
      },
      "execution_count": 43,
      "outputs": []
    },
    {
      "cell_type": "code",
      "source": [
        "for name in sorted(favorite_languages.keys()):\n",
        "  print(name.title())"
      ],
      "metadata": {
        "colab": {
          "base_uri": "https://localhost:8080/"
        },
        "id": "3kYNXDzEia2N",
        "outputId": "86f5a0ea-b272-4db6-bd2d-60877bcdd5d5"
      },
      "execution_count": 45,
      "outputs": [
        {
          "output_type": "stream",
          "name": "stdout",
          "text": [
            "Edward\n",
            "Jen\n",
            "Phil\n",
            "Sarah\n"
          ]
        }
      ]
    },
    {
      "cell_type": "markdown",
      "source": [
        "**Looping Through All Values in a Dictionary**\n",
        "\n"
      ],
      "metadata": {
        "id": "4sc6p2C7itXi"
      }
    },
    {
      "cell_type": "code",
      "source": [
        "for language in favorite_languages.values():\n",
        "  print(language)"
      ],
      "metadata": {
        "colab": {
          "base_uri": "https://localhost:8080/"
        },
        "id": "Qg7eaoyVi1TX",
        "outputId": "e98278a4-1e16-4852-e9f4-c2d873f60801"
      },
      "execution_count": 46,
      "outputs": [
        {
          "output_type": "stream",
          "name": "stdout",
          "text": [
            "python\n",
            "c\n",
            "ruby\n",
            "python\n"
          ]
        }
      ]
    },
    {
      "cell_type": "markdown",
      "source": [
        "**This approach pulls all the values from the dictionary without checking\n",
        "for repeats. That might work fine with a small number of values, but in a\n",
        "poll with a large number of respondents, this would result in a very repetitive list. To see each language chosen without repetition, we can use a set.\n",
        "A set is a collection in which each item must be unique.**"
      ],
      "metadata": {
        "id": "g3fntSZhjUK4"
      }
    },
    {
      "cell_type": "code",
      "source": [
        "for language in set(favorite_languages.values()):\n",
        "  print(language)"
      ],
      "metadata": {
        "colab": {
          "base_uri": "https://localhost:8080/"
        },
        "id": "Ia5HWeIzjXzb",
        "outputId": "83e4a21c-3fa0-423f-c8de-6b5fb23d6f0c"
      },
      "execution_count": 47,
      "outputs": [
        {
          "output_type": "stream",
          "name": "stdout",
          "text": [
            "ruby\n",
            "python\n",
            "c\n"
          ]
        }
      ]
    },
    {
      "cell_type": "markdown",
      "source": [
        "# Nesting"
      ],
      "metadata": {
        "id": "-c_y1XzDkfNb"
      }
    },
    {
      "cell_type": "markdown",
      "source": [
        "**A List of Dictionaries**"
      ],
      "metadata": {
        "id": "9N2eu6dRkiGn"
      }
    },
    {
      "cell_type": "code",
      "source": [
        "alien_0 = {'color': 'green', 'points': 5}\n",
        "alien_1 = {'color': 'yellow', 'points': 10}\n",
        "alien_2 = {'color': 'red', 'points': 15}"
      ],
      "metadata": {
        "id": "KE02324XkhJq"
      },
      "execution_count": 48,
      "outputs": []
    },
    {
      "cell_type": "code",
      "source": [
        "aliens = [alien_0, alien_1, alien_2]\n",
        "for alien in aliens:\n",
        "  print(alien)"
      ],
      "metadata": {
        "colab": {
          "base_uri": "https://localhost:8080/"
        },
        "id": "Ek7qf0JWkqT-",
        "outputId": "2c8ab2f8-4eb1-4656-8910-7bc39d6be29e"
      },
      "execution_count": 50,
      "outputs": [
        {
          "output_type": "stream",
          "name": "stdout",
          "text": [
            "{'color': 'green', 'points': 5}\n",
            "{'color': 'yellow', 'points': 10}\n",
            "{'color': 'red', 'points': 15}\n"
          ]
        }
      ]
    },
    {
      "cell_type": "markdown",
      "source": [
        "**A List in a Dictionary**"
      ],
      "metadata": {
        "id": "-mP5DuTdl9_U"
      }
    },
    {
      "cell_type": "code",
      "source": [
        "# Store information about a pizza being ordered.\n",
        "pizza = {\n",
        " 'crust': 'thick',\n",
        " 'toppings': ['mushrooms', 'extra cheese'],\n",
        " }"
      ],
      "metadata": {
        "id": "MJZvOChRl_nf"
      },
      "execution_count": 51,
      "outputs": []
    },
    {
      "cell_type": "code",
      "source": [
        "# summerize the order\n",
        "print(f\"you ordered a {pizza['crust']} crust pizza with following toppings:\")\n",
        "\n",
        "for topping in pizza['toppings']:\n",
        "  print(topping)"
      ],
      "metadata": {
        "colab": {
          "base_uri": "https://localhost:8080/"
        },
        "id": "yCLGejEmmGZx",
        "outputId": "c0499620-7950-4be6-ea0f-32e9ae254fc8"
      },
      "execution_count": 58,
      "outputs": [
        {
          "output_type": "stream",
          "name": "stdout",
          "text": [
            "you ordered a thick crust pizza with following toppings:\n",
            "mushrooms\n",
            "extra cheese\n"
          ]
        }
      ]
    }
  ]
}