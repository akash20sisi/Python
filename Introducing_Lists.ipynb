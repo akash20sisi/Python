{
  "nbformat": 4,
  "nbformat_minor": 0,
  "metadata": {
    "colab": {
      "provenance": []
    },
    "kernelspec": {
      "name": "python3",
      "display_name": "Python 3"
    },
    "language_info": {
      "name": "python"
    }
  },
  "cells": [
    {
      "cell_type": "markdown",
      "source": [
        "**Learning Goals**\n",
        "1. what lists are and how to work with the individual items in a list.\n",
        "2. How to define a list.\n",
        "3. How to add and remove elements.\n",
        "4. To sort lists permanently and temporarily for\n",
        "display purposes.\n",
        "5. How to find the length of a list."
      ],
      "metadata": {
        "id": "w1wIaUOM88qn"
      }
    },
    {
      "cell_type": "markdown",
      "source": [
        "**What Is a List?**\n",
        "\n",
        "\n",
        "1.   A list is a collection of items in a particular order. You can make a list that\n",
        "includes the letters of the alphabet, the digits from 0-9, or the names of\n",
        "all the people in your family.\n",
        "2. You can put anything you want into a list, and\n",
        "the items in your list don't have to be related in any particular way.\n",
        "\n"
      ],
      "metadata": {
        "id": "ITECv1Q0mrxR"
      }
    },
    {
      "cell_type": "code",
      "execution_count": 1,
      "metadata": {
        "colab": {
          "base_uri": "https://localhost:8080/"
        },
        "id": "29o4Dwoimi_U",
        "outputId": "470de23f-43c2-45b2-a81a-f4e4576ad88d"
      },
      "outputs": [
        {
          "output_type": "stream",
          "name": "stdout",
          "text": [
            "['shoes', 'raincoat', 'water_bottle', 'umbrella']\n"
          ]
        }
      ],
      "source": [
        "trekking = ['shoes','raincoat','water_bottle','umbrella']\n",
        "print(trekking)"
      ]
    },
    {
      "cell_type": "markdown",
      "source": [
        "**Accessing Elements in a List**\n",
        "\n",
        "1.   Lists are ordered collections, so you can access any element in a list by\n",
        "telling Python the position, or index, of the item desired.\n",
        "2. Index Positions Start at 0, Not 1.\n",
        "3. We can access elements from the end of the list using negative integers.\n",
        "\n"
      ],
      "metadata": {
        "id": "snHsNmw8n4zw"
      }
    },
    {
      "cell_type": "code",
      "source": [
        "trekking[0]"
      ],
      "metadata": {
        "colab": {
          "base_uri": "https://localhost:8080/",
          "height": 35
        },
        "id": "Stf7Oh-sn7Jm",
        "outputId": "f9737384-89d1-49ff-eb79-a192f52c98c8"
      },
      "execution_count": 5,
      "outputs": [
        {
          "output_type": "execute_result",
          "data": {
            "text/plain": [
              "'shoes'"
            ],
            "application/vnd.google.colaboratory.intrinsic+json": {
              "type": "string"
            }
          },
          "metadata": {},
          "execution_count": 5
        }
      ]
    },
    {
      "cell_type": "code",
      "source": [],
      "metadata": {
        "id": "m8Nt0LD3oKRQ"
      },
      "execution_count": null,
      "outputs": []
    },
    {
      "cell_type": "code",
      "source": [
        "print(trekking[1])\n",
        "print(trekking[1].title())"
      ],
      "metadata": {
        "colab": {
          "base_uri": "https://localhost:8080/"
        },
        "id": "P-8uw1yLoIID",
        "outputId": "d658f950-553a-4190-8512-2ca2265a431d"
      },
      "execution_count": 6,
      "outputs": [
        {
          "output_type": "stream",
          "name": "stdout",
          "text": [
            "raincoat\n",
            "Raincoat\n"
          ]
        }
      ]
    },
    {
      "cell_type": "code",
      "source": [
        "print(trekking[-1])\n",
        "print(trekking[-2])\n",
        "print(trekking[-1],trekking[-3])"
      ],
      "metadata": {
        "colab": {
          "base_uri": "https://localhost:8080/"
        },
        "id": "WRj0wYWNpCbx",
        "outputId": "2e483c37-1600-40d0-eac4-7475eba5fd11"
      },
      "execution_count": 10,
      "outputs": [
        {
          "output_type": "stream",
          "name": "stdout",
          "text": [
            "umbrella\n",
            "water_bottle\n",
            "umbrella raincoat\n"
          ]
        }
      ]
    },
    {
      "cell_type": "markdown",
      "source": [
        "**Using Individual Values from a List**"
      ],
      "metadata": {
        "id": "r_vaXyvZp5zj"
      }
    },
    {
      "cell_type": "code",
      "source": [
        "message = f\"we need to take {trekking[1].title()} and {trekking[3].title()} for trekking\"\n",
        "print(message)"
      ],
      "metadata": {
        "colab": {
          "base_uri": "https://localhost:8080/"
        },
        "id": "0Laay6n4phZ1",
        "outputId": "3c487d5d-29da-46e4-bff5-eb361f61aa14"
      },
      "execution_count": 15,
      "outputs": [
        {
          "output_type": "stream",
          "name": "stdout",
          "text": [
            "we need to take Raincoat and Umbrella for trekking\n"
          ]
        }
      ]
    },
    {
      "cell_type": "markdown",
      "source": [
        "**Modifying Elements in a List**"
      ],
      "metadata": {
        "id": "lLBaiqYVq91w"
      }
    },
    {
      "cell_type": "code",
      "source": [
        "motorcycles = ['honda', 'yamaha', 'suzuki']\n",
        "print(motorcycles)"
      ],
      "metadata": {
        "colab": {
          "base_uri": "https://localhost:8080/"
        },
        "id": "IkS2TP5brBWD",
        "outputId": "2be1e80d-b10a-470b-b081-03bb467cfdab"
      },
      "execution_count": 17,
      "outputs": [
        {
          "output_type": "stream",
          "name": "stdout",
          "text": [
            "['honda', 'yamaha', 'suzuki']\n"
          ]
        }
      ]
    },
    {
      "cell_type": "code",
      "source": [
        "motorcycles[1] = 'apache'\n",
        "print(motorcycles)"
      ],
      "metadata": {
        "colab": {
          "base_uri": "https://localhost:8080/"
        },
        "id": "s1ZtAGLTrHRd",
        "outputId": "c495c1c5-d445-4bb8-959e-51b34d39e9cc"
      },
      "execution_count": 19,
      "outputs": [
        {
          "output_type": "stream",
          "name": "stdout",
          "text": [
            "['honda', 'apache', 'suzuki']\n"
          ]
        }
      ]
    },
    {
      "cell_type": "markdown",
      "source": [
        "**Adding Elements to a List**"
      ],
      "metadata": {
        "id": "_fb0F1lErcRK"
      }
    },
    {
      "cell_type": "code",
      "source": [
        "motorcycles = ['honda', 'yamaha', 'suzuki']\n",
        "motorcycles.append('ducati')\n",
        "print(motorcycles)"
      ],
      "metadata": {
        "colab": {
          "base_uri": "https://localhost:8080/"
        },
        "id": "4RZ8EwZKreEz",
        "outputId": "d76f6e0c-c467-4190-e9c9-14b8b6372836"
      },
      "execution_count": 21,
      "outputs": [
        {
          "output_type": "stream",
          "name": "stdout",
          "text": [
            "['honda', 'yamaha', 'suzuki', 'ducati']\n"
          ]
        }
      ]
    },
    {
      "cell_type": "code",
      "source": [
        "car =[]\n",
        "car.append('Maruti Suzuki')\n",
        "car.append('Tata')\n",
        "car.append('Toyota')\n",
        "print(car)"
      ],
      "metadata": {
        "colab": {
          "base_uri": "https://localhost:8080/"
        },
        "id": "dUMWgpcFsQEL",
        "outputId": "13496206-fcee-4865-bbe4-b5ab3da575e9"
      },
      "execution_count": 52,
      "outputs": [
        {
          "output_type": "stream",
          "name": "stdout",
          "text": [
            "['Maruti Suzuki', 'Tata', 'Toyota']\n"
          ]
        }
      ]
    },
    {
      "cell_type": "markdown",
      "source": [
        "**Inserting Elements into a List**\n",
        "1. You can add a new element at any position in your list by using the insert()\n",
        "method."
      ],
      "metadata": {
        "id": "ou09pEwLzts1"
      }
    },
    {
      "cell_type": "code",
      "source": [
        "car.insert(0,'yamaha')\n",
        "print(car)\n",
        "del car[0],car[1]\n",
        "print(car)"
      ],
      "metadata": {
        "colab": {
          "base_uri": "https://localhost:8080/"
        },
        "id": "910C23vxzv1S",
        "outputId": "336b1a96-db1b-4be1-97e3-49ca0cff883c"
      },
      "execution_count": 38,
      "outputs": [
        {
          "output_type": "stream",
          "name": "stdout",
          "text": [
            "['yamaha', 'Maruti Suzuki', 'Tata', 'Toyota']\n",
            "['Maruti Suzuki', 'Toyota']\n"
          ]
        }
      ]
    },
    {
      "cell_type": "markdown",
      "source": [
        "**Removing an Item Using the pop() Method**\n",
        "1. Sometimes you’ll want to use the value of an item after you remove it from a\n",
        "list. For example, you might want to get the x and y position of an alien that\n",
        "was just shot down, so you can draw an explosion at that position.\n",
        "2. In a web\n",
        "application, you might want to remove a user from a list of active members\n",
        "and then add that user to a list of inactive members.\n",
        "3. The pop() method removes the last item in a list, but it lets you work\n",
        "with that item after removing it."
      ],
      "metadata": {
        "id": "4idj8eA604FS"
      }
    },
    {
      "cell_type": "code",
      "source": [
        "print(car)\n",
        "popped_car = car.pop()\n",
        "print(car)\n",
        "print(popped_car)"
      ],
      "metadata": {
        "colab": {
          "base_uri": "https://localhost:8080/"
        },
        "id": "QyUQcKs91O1Y",
        "outputId": "bf77ea4e-ee7a-4992-d65a-94f238e0423f"
      },
      "execution_count": 41,
      "outputs": [
        {
          "output_type": "stream",
          "name": "stdout",
          "text": [
            "['Maruti Suzuki', 'Tata', 'Toyota']\n",
            "['Maruti Suzuki', 'Tata']\n",
            "Toyota\n"
          ]
        }
      ]
    },
    {
      "cell_type": "markdown",
      "source": [
        "4. How might this pop() method be useful? Imagine that the motorcycles\n",
        "in the list are stored in chronological order according to when we owned\n",
        "them. If this is the case, we can use the pop() method to print a statement\n",
        "about the last motorcycle we bought."
      ],
      "metadata": {
        "id": "cfxiXs0r16i2"
      }
    },
    {
      "cell_type": "code",
      "source": [
        "print(f'The last car I owned was {car.pop()}')"
      ],
      "metadata": {
        "colab": {
          "base_uri": "https://localhost:8080/"
        },
        "id": "sMn6Rsse2AEh",
        "outputId": "1c7c4c60-6a85-4deb-c0ed-7053bb9712f1"
      },
      "execution_count": 43,
      "outputs": [
        {
          "output_type": "stream",
          "name": "stdout",
          "text": [
            "The last car I owned was Toyota\n"
          ]
        }
      ]
    },
    {
      "cell_type": "markdown",
      "source": [
        "**Popping Items from any Position in a List**"
      ],
      "metadata": {
        "id": "xNz2NlBN2ez1"
      }
    },
    {
      "cell_type": "code",
      "source": [
        "car.pop(1)\n",
        "print(car)"
      ],
      "metadata": {
        "colab": {
          "base_uri": "https://localhost:8080/"
        },
        "id": "a4p-uFan2g5D",
        "outputId": "6ca5a6a2-e5d2-44c9-e53a-d5390026bd90"
      },
      "execution_count": 46,
      "outputs": [
        {
          "output_type": "stream",
          "name": "stdout",
          "text": [
            "['Maruti Suzuki']\n"
          ]
        }
      ]
    },
    {
      "cell_type": "markdown",
      "source": [
        "**Removing an Item by Value**\n",
        "1. Sometimes you won't know the position of the value you want to remove\n",
        "from a list.\n",
        "2. The remove() method deletes only the first occurrence of the value you specify. If there's\n",
        "a possibility the value appears more than once in the list, you'll need to use a loop\n",
        "to make sure all occurrences of the value are removed."
      ],
      "metadata": {
        "id": "cyd1rN0b3NqX"
      }
    },
    {
      "cell_type": "code",
      "source": [
        "print(car)\n",
        "car.remove('Tata')\n",
        "print(car)"
      ],
      "metadata": {
        "colab": {
          "base_uri": "https://localhost:8080/"
        },
        "id": "TFkNBl1z3Qe7",
        "outputId": "1a707c50-d362-4f9f-8577-98ef31ba1e86"
      },
      "execution_count": 53,
      "outputs": [
        {
          "output_type": "stream",
          "name": "stdout",
          "text": [
            "['Maruti Suzuki', 'Tata', 'Toyota']\n",
            "['Maruti Suzuki', 'Toyota']\n"
          ]
        }
      ]
    },
    {
      "cell_type": "markdown",
      "source": [
        "**Organizing a List**\n"
      ],
      "metadata": {
        "id": "MKCDJ0G-5whl"
      }
    },
    {
      "cell_type": "markdown",
      "source": [
        "**Sorting a List Permanently with the sort() Method**\n",
        "1. The sort() method, changes the order of the list permanently. The cars are now in alphabetical order, and we can never revert to\n",
        "the original order."
      ],
      "metadata": {
        "id": "agZGYrFj51e1"
      }
    },
    {
      "cell_type": "code",
      "source": [
        "cars = ['bmw', 'audi', 'toyota', 'subaru']\n",
        "cars.sort()\n",
        "print(cars)"
      ],
      "metadata": {
        "colab": {
          "base_uri": "https://localhost:8080/"
        },
        "id": "22Q3_h2t53ba",
        "outputId": "7411bcc6-6e11-4d1d-ff80-dde5bb23c412"
      },
      "execution_count": 59,
      "outputs": [
        {
          "output_type": "stream",
          "name": "stdout",
          "text": [
            "['audi', 'bmw', 'subaru', 'toyota']\n"
          ]
        }
      ]
    },
    {
      "cell_type": "code",
      "source": [
        "cars.sort(reverse = True)\n",
        "print(cars)"
      ],
      "metadata": {
        "colab": {
          "base_uri": "https://localhost:8080/"
        },
        "id": "HAFLsUTQ6YeM",
        "outputId": "442c2ea4-e3ca-4502-b3b0-080910425bc4"
      },
      "execution_count": 62,
      "outputs": [
        {
          "output_type": "stream",
          "name": "stdout",
          "text": [
            "['toyota', 'subaru', 'bmw', 'audi']\n"
          ]
        }
      ]
    },
    {
      "cell_type": "markdown",
      "source": [
        "**Sorting a List Temporarily with the sorted() Function**\n",
        "1. To maintain the original order of a list but present it in a sorted order, you\n",
        "can use the sorted() function.\n",
        "2. The sorted() function lets you display your list\n",
        "in a particular order but doesn't affect the actual order of the list."
      ],
      "metadata": {
        "id": "mkHrano161rz"
      }
    },
    {
      "cell_type": "code",
      "source": [
        "cars = ['bmw', 'audi', 'Toyota', 'subaru']\n",
        "print(\"Here is the original list:\")\n",
        "print(cars)\n",
        "print(\"\\nhere is the sorted list:\")\n",
        "print(sorted(cars))\n",
        "print(\"\\nHere is the original list:\")\n",
        "print(cars)"
      ],
      "metadata": {
        "colab": {
          "base_uri": "https://localhost:8080/"
        },
        "id": "VYijxSc366oy",
        "outputId": "840c1402-de01-48f5-fb76-a17f90b960a0"
      },
      "execution_count": 70,
      "outputs": [
        {
          "output_type": "stream",
          "name": "stdout",
          "text": [
            "Here is the original list:\n",
            "['bmw', 'audi', 'Toyota', 'subaru']\n",
            "\n",
            "here is the sorted list:\n",
            "['Toyota', 'audi', 'bmw', 'subaru']\n",
            "\n",
            "Here is the original list:\n",
            "['bmw', 'audi', 'Toyota', 'subaru']\n"
          ]
        }
      ]
    },
    {
      "cell_type": "markdown",
      "source": [
        "**Printing a List in Reverse Order**"
      ],
      "metadata": {
        "id": "cYgI46-j7-y2"
      }
    },
    {
      "cell_type": "code",
      "source": [
        "cars = ['bmw', 'audi', 'toyota', 'subaru']\n",
        "print(cars)\n",
        "cars.reverse()\n",
        "print(cars)"
      ],
      "metadata": {
        "colab": {
          "base_uri": "https://localhost:8080/"
        },
        "id": "mJkRNVZ98BSR",
        "outputId": "653e3d63-446f-4dc0-9743-643159d933ac"
      },
      "execution_count": 68,
      "outputs": [
        {
          "output_type": "stream",
          "name": "stdout",
          "text": [
            "['bmw', 'audi', 'toyota', 'subaru']\n",
            "['subaru', 'toyota', 'audi', 'bmw']\n"
          ]
        }
      ]
    },
    {
      "cell_type": "markdown",
      "source": [
        "**Finding the Length of a List**"
      ],
      "metadata": {
        "id": "aRu_W9ig8OFs"
      }
    },
    {
      "cell_type": "code",
      "source": [
        "len(cars)"
      ],
      "metadata": {
        "colab": {
          "base_uri": "https://localhost:8080/"
        },
        "id": "Eb8cWi1v8QBO",
        "outputId": "a344e41a-ea05-4c9b-af19-bd12b3b7b069"
      },
      "execution_count": 69,
      "outputs": [
        {
          "output_type": "execute_result",
          "data": {
            "text/plain": [
              "4"
            ]
          },
          "metadata": {},
          "execution_count": 69
        }
      ]
    }
  ]
}